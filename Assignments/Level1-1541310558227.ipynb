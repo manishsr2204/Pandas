{
 "cells": [
  {
   "cell_type": "markdown",
   "metadata": {},
   "source": [
    "<img src = 'https://github.com/insaid2018/Term-1/blob/master/Images/INSAID_Full%20Logo.png?raw=true' width=\"240\" height=\"360\">\n",
    "# __Assignment: Numpy and Pandas__\n",
    "### Level: 1"
   ]
  },
  {
   "cell_type": "markdown",
   "metadata": {},
   "source": [
    "### 1. Create a null vector of size 7 but the third and last value as 2."
   ]
  },
  {
   "cell_type": "code",
   "execution_count": 14,
   "metadata": {},
   "outputs": [
    {
     "name": "stdout",
     "output_type": "stream",
     "text": [
      "[0. 0. 2. 0. 0. 0. 2.]\n"
     ]
    }
   ],
   "source": [
    "import numpy as np\n",
    "def generate():\n",
    "    val= np.zeros(7)\n",
    "    val[2]=2\n",
    "    val[-1]=2\n",
    "    print(val)\n",
    "    return # your variable \n",
    "generate()"
   ]
  },
  {
   "cell_type": "markdown",
   "metadata": {},
   "source": [
    "### 2. Create a vector of size 9 with values ranging from 0 to 2, both excluded."
   ]
  },
  {
   "cell_type": "code",
   "execution_count": 18,
   "metadata": {},
   "outputs": [
    {
     "name": "stdout",
     "output_type": "stream",
     "text": [
      "[0.   0.25 0.5  0.75 1.   1.25 1.5  1.75 2.  ]\n"
     ]
    }
   ],
   "source": [
    "import numpy as np\n",
    "def generate():\n",
    "    # Write your code here\n",
    "    vec = np.linspace(0,2,9,endpoint=True)\n",
    "    print(vec)\n",
    "    return # your variable\n",
    "generate()"
   ]
  },
  {
   "cell_type": "markdown",
   "metadata": {},
   "source": [
    "### 3. Convert the first character of each element in a series to uppercase? And return the new series."
   ]
  },
  {
   "cell_type": "code",
   "execution_count": 25,
   "metadata": {},
   "outputs": [
    {
     "data": {
      "text/plain": [
       "0     4\n",
       "1     9\n",
       "2    16\n",
       "dtype: int64"
      ]
     },
     "execution_count": 25,
     "metadata": {},
     "output_type": "execute_result"
    }
   ],
   "source": [
    "def square(x):\n",
    "    return x ** 2\n",
    "s = pd.Series([2,3,4])\n",
    "a=s.apply(square)\n",
    "a"
   ]
  },
  {
   "cell_type": "code",
   "execution_count": 31,
   "metadata": {},
   "outputs": [
    {
     "data": {
      "text/plain": [
       "0              How\n",
       "1               To\n",
       "2            Learn\n",
       "3    Data science?\n",
       "dtype: object"
      ]
     },
     "execution_count": 31,
     "metadata": {},
     "output_type": "execute_result"
    }
   ],
   "source": [
    "import pandas as pd\n",
    "series = pd.Series(['how', 'to', 'learn', 'data science?'])\n",
    "def generate():\n",
    "    # your code\n",
    "    new_series = series.apply(upp)\n",
    "    return new_series # your variable for new series\n",
    "def upp(x):\n",
    "    return x[0].upper() + x[1:]\n",
    "    \n",
    "    \n",
    "generate() "
   ]
  },
  {
   "cell_type": "markdown",
   "metadata": {},
   "source": [
    "### 4. Given a 3*3 matrix named matrix_fab, From each element of this matrix subtract the mean of that row, name this matrix as matrix_sub. Divide each element of this matrix by twice of the largest element to get matrix_norm. Print it out."
   ]
  },
  {
   "cell_type": "code",
   "execution_count": 47,
   "metadata": {
    "scrolled": true
   },
   "outputs": [
    {
     "name": "stdout",
     "output_type": "stream",
     "text": [
      "[[0 1 2]\n",
      " [3 4 5]\n",
      " [6 7 8]]\n",
      "[[-0.5  0.   0.5]\n",
      " [-0.5  0.   0.5]\n",
      " [-0.5  0.   0.5]]\n"
     ]
    }
   ],
   "source": [
    "import numpy as np\n",
    "arr = np.arange(0,9)                                \n",
    "matrix_fab = arr.reshape(3,3)\n",
    "def generate():\n",
    "    print(matrix_fab)\n",
    "    matrix_sub=matrix_fab-matrix_fab.mean(axis=1 , keepdims= True)\n",
    "    max=matrix_sub.max()\n",
    "    matrix_norm = matrix_sub/(2*max)\n",
    "    print(matrix_norm)\n",
    "    # print matrix_norm\n",
    "    return None\n",
    "generate()"
   ]
  },
  {
   "cell_type": "code",
   "execution_count": 52,
   "metadata": {},
   "outputs": [
    {
     "name": "stdout",
     "output_type": "stream",
     "text": [
      "(2, 3)\n",
      "(1, 1)\n",
      "[[21]]\n",
      "()\n",
      "21\n"
     ]
    }
   ],
   "source": [
    "import numpy as np\n",
    "x  = np.array([[1,2,3],[4,5,6]])\n",
    "print(x.shape)\n",
    "# (2, 3)\n",
    "\n",
    "print(np.sum(x, keepdims=True).shape)\n",
    "# (1, 1)\n",
    "\n",
    "print(np.sum(x, keepdims=True))\n",
    "# array([[21]]) <---the reault is still a 1x1 array\n",
    "\n",
    "print(np.sum(x, keepdims=False).shape)\n",
    "# ()\n",
    "\n",
    "print(np.sum(x, keepdims=False))\n",
    "# 21 <--- the result is an integer with no dimesion"
   ]
  },
  {
   "cell_type": "markdown",
   "metadata": {},
   "source": [
    "### 5. Create a random vector of size 12 , sort it in decreasing order, make 4*3 array using it.\n",
    "Hint: use reshape and sort function."
   ]
  },
  {
   "cell_type": "code",
   "execution_count": 65,
   "metadata": {},
   "outputs": [
    {
     "name": "stdout",
     "output_type": "stream",
     "text": [
      "[0.74114711 0.14614688 0.85224386 0.58793672 0.13269808 0.45947365\n",
      " 0.82924514 0.69907449 0.39026486 0.25359508 0.26426104 0.5443838 ]\n",
      "[[0.85224386 0.82924514 0.74114711]\n",
      " [0.69907449 0.58793672 0.5443838 ]\n",
      " [0.45947365 0.39026486 0.26426104]\n",
      " [0.25359508 0.14614688 0.13269808]]\n"
     ]
    }
   ],
   "source": [
    "import numpy as np\n",
    "def generate():\n",
    "    # Write your code here\n",
    "    rand_vect = np.random.random(12)\n",
    "    print(rand_vect)\n",
    "    print(np.array(sorted(rand_vect,reverse=True)).reshape(4,3))\n",
    "    return # your variable\n",
    "generate()"
   ]
  },
  {
   "cell_type": "markdown",
   "metadata": {},
   "source": [
    "### 6. Below is Python dictionary data and Python list labels. Create a DataFrame df from this dictionary data which has index as labels. Select the rows where the age is missing, i.e. is NaN."
   ]
  },
  {
   "cell_type": "code",
   "execution_count": 78,
   "metadata": {
    "scrolled": true
   },
   "outputs": [
    {
     "data": {
      "text/html": [
       "<div>\n",
       "<style scoped>\n",
       "    .dataframe tbody tr th:only-of-type {\n",
       "        vertical-align: middle;\n",
       "    }\n",
       "\n",
       "    .dataframe tbody tr th {\n",
       "        vertical-align: top;\n",
       "    }\n",
       "\n",
       "    .dataframe thead th {\n",
       "        text-align: right;\n",
       "    }\n",
       "</style>\n",
       "<table border=\"1\" class=\"dataframe\">\n",
       "  <thead>\n",
       "    <tr style=\"text-align: right;\">\n",
       "      <th></th>\n",
       "      <th>animal</th>\n",
       "      <th>age</th>\n",
       "      <th>visits</th>\n",
       "      <th>priority</th>\n",
       "    </tr>\n",
       "  </thead>\n",
       "  <tbody>\n",
       "    <tr>\n",
       "      <th>d</th>\n",
       "      <td>dog</td>\n",
       "      <td>NaN</td>\n",
       "      <td>3</td>\n",
       "      <td>yes</td>\n",
       "    </tr>\n",
       "    <tr>\n",
       "      <th>h</th>\n",
       "      <td>cat</td>\n",
       "      <td>NaN</td>\n",
       "      <td>1</td>\n",
       "      <td>yes</td>\n",
       "    </tr>\n",
       "  </tbody>\n",
       "</table>\n",
       "</div>"
      ],
      "text/plain": [
       "  animal  age  visits priority\n",
       "d    dog  NaN       3      yes\n",
       "h    cat  NaN       1      yes"
      ]
     },
     "execution_count": 78,
     "metadata": {},
     "output_type": "execute_result"
    }
   ],
   "source": [
    "import numpy as np\n",
    "data = {'animal': ['cat', 'cat', 'snake', 'dog', 'dog', 'cat', 'snake', 'cat', 'dog', 'dog'],\n",
    "        'age': [2.5, 3, 0.5, np.nan, 5, 2, 4.5, np.nan, 7, 3],\n",
    "        'visits': [1, 3, 2, 3, 2, 3, 1, 1, 2, 1],\n",
    "        'priority': ['yes', 'yes', 'no', 'yes', 'no', 'no', 'no', 'yes', 'no', 'no']}\n",
    "\n",
    "labels = ['a', 'b', 'c', 'd', 'e', 'f', 'g', 'h', 'i', 'j']\n",
    "import pandas as pd\n",
    "def generate():\n",
    "    # Write your code here\n",
    "    df= pd.DataFrame(data,index=labels)\n",
    "    return df[df['age'].isnull()] # your variable\n",
    "generate()\n",
    "\n"
   ]
  },
  {
   "cell_type": "code",
   "execution_count": 84,
   "metadata": {},
   "outputs": [],
   "source": [
    "data = {'animal': ['cat', 'cat', 'snake', 'dog', 'dog', 'cat', 'snake', 'cat', 'dog', 'dog'],\n",
    "        'age': [2.5, 3, 0.5, np.nan, 5, 2, 4.5, np.nan, 7, 3],\n",
    "        'visits': [1, 3, 2, 3, 2, 3, 1, 1, 2, 1],\n",
    "        'priority': ['yes', 'yes', 'no', 'yes', 'no', 'no', 'no', 'yes', 'no', 'no']}\n",
    "\n",
    "labels = ['a', 'b', 'c', 'd', 'e', 'f', 'g', 'h', 'i', 'j']\n",
    "\n",
    "df= pd.DataFrame(data,index=labels)"
   ]
  },
  {
   "cell_type": "markdown",
   "metadata": {},
   "source": [
    "### 7. From the give dataframe df, in the 'animal' column change the 'dog' entries to 'Labrador', change the age in row 'd' to 2.7 and calculate the mean age (name it mean_age) for each different animal in df. Print df and return mean_age."
   ]
  },
  {
   "cell_type": "code",
   "execution_count": 14,
   "metadata": {},
   "outputs": [
    {
     "name": "stdout",
     "output_type": "stream",
     "text": [
      "  animal  age  visits priority\n",
      "a    cat  2.5       1      yes\n",
      "b    cat  3.0       3      yes\n",
      "c  snake  0.5       2       no\n",
      "d    dog  NaN       3      yes\n",
      "e    dog  5.0       2       no\n",
      "     animal  age  visits priority\n",
      "a       cat  2.5       1      yes\n",
      "b       cat  3.0       3      yes\n",
      "c     snake  0.5       2       no\n",
      "d  Labrador  2.7       3      yes\n",
      "e  Labrador  5.0       2       no\n"
     ]
    },
    {
     "data": {
      "text/html": [
       "<div>\n",
       "<style scoped>\n",
       "    .dataframe tbody tr th:only-of-type {\n",
       "        vertical-align: middle;\n",
       "    }\n",
       "\n",
       "    .dataframe tbody tr th {\n",
       "        vertical-align: top;\n",
       "    }\n",
       "\n",
       "    .dataframe thead th {\n",
       "        text-align: right;\n",
       "    }\n",
       "</style>\n",
       "<table border=\"1\" class=\"dataframe\">\n",
       "  <thead>\n",
       "    <tr style=\"text-align: right;\">\n",
       "      <th></th>\n",
       "      <th>age</th>\n",
       "      <th>visits</th>\n",
       "    </tr>\n",
       "    <tr>\n",
       "      <th>animal</th>\n",
       "      <th></th>\n",
       "      <th></th>\n",
       "    </tr>\n",
       "  </thead>\n",
       "  <tbody>\n",
       "    <tr>\n",
       "      <th>Labrador</th>\n",
       "      <td>4.425</td>\n",
       "      <td>2.0</td>\n",
       "    </tr>\n",
       "    <tr>\n",
       "      <th>cat</th>\n",
       "      <td>2.500</td>\n",
       "      <td>2.0</td>\n",
       "    </tr>\n",
       "    <tr>\n",
       "      <th>snake</th>\n",
       "      <td>2.500</td>\n",
       "      <td>1.5</td>\n",
       "    </tr>\n",
       "  </tbody>\n",
       "</table>\n",
       "</div>"
      ],
      "text/plain": [
       "            age  visits\n",
       "animal                 \n",
       "Labrador  4.425     2.0\n",
       "cat       2.500     2.0\n",
       "snake     2.500     1.5"
      ]
     },
     "execution_count": 14,
     "metadata": {},
     "output_type": "execute_result"
    }
   ],
   "source": [
    "import pandas as pd\n",
    "import numpy as np\n",
    "data = {'animal': ['cat', 'cat', 'snake', 'dog', 'dog', 'cat', 'snake', 'cat', 'dog', 'dog'],\n",
    "        'age': [2.5, 3, 0.5, np.nan, 5, 2, 4.5, np.nan, 7, 3],\n",
    "        'visits': [1, 3, 2, 3, 2, 3, 1, 1, 2, 1],\n",
    "        'priority': ['yes', 'yes', 'no', 'yes', 'no', 'no', 'no', 'yes', 'no', 'no']}\n",
    "\n",
    "labels = ['a', 'b', 'c', 'd', 'e', 'f', 'g', 'h', 'i', 'j']\n",
    "df = pd.DataFrame(data, index=labels)\n",
    "def generate():\n",
    "    print(df.head())\n",
    "    df['animal']=df['animal'].replace('dog','Labrador')\n",
    "    df.loc['d','age']=2.7\n",
    "    print(df.head())\n",
    "    mean_age=df.groupby('animal').age.mean()\n",
    "    # mean_age = df.groupby('animal')['age'].mean()\n",
    "    mean_age = df.groupby('animal')[['age','visits']].mean()\n",
    "    # write your code here\n",
    "    # Also print df\n",
    "    return mean_age # your variable i.e mean_age\n",
    "generate()"
   ]
  },
  {
   "cell_type": "markdown",
   "metadata": {},
   "source": [
    "### 8.  From the given dataframe get the positions where values of two columns match?"
   ]
  },
  {
   "cell_type": "code",
   "execution_count": 10,
   "metadata": {},
   "outputs": [],
   "source": [
    "import pandas as pd\n",
    "import numpy as np\n",
    "df = pd.DataFrame({'fruit1': np.random.choice(['apple', 'orange', 'banana'], 10),\n",
    "                    'fruit2': np.random.choice(['apple', 'orange', 'banana'], 10)})\n",
    "def generate():\n",
    "    # your code here\n",
    "    return None\n",
    "generate()"
   ]
  },
  {
   "cell_type": "markdown",
   "metadata": {},
   "source": [
    "### 9. Find the positions of numbers that are multiples of 4 from a series? Print series and return position. Hint: use argwhere."
   ]
  },
  {
   "cell_type": "code",
   "execution_count": 7,
   "metadata": {},
   "outputs": [],
   "source": [
    "import pandas as pd\n",
    "import numpy as np\n",
    "series = pd.Series(np.random.randint(1, 10, 7))\n",
    "def generate():\n",
    "    # your code here\n",
    "    # print(series)\n",
    "    return # your variable\n",
    "generate()"
   ]
  },
  {
   "cell_type": "markdown",
   "metadata": {},
   "source": [
    "### 10. Stack two given series vertically and horizontally ? Print out both."
   ]
  },
  {
   "cell_type": "code",
   "execution_count": 8,
   "metadata": {},
   "outputs": [],
   "source": [
    "import pandas as pd\n",
    "import numpy as np\n",
    "series1 = pd.Series(range(5))\n",
    "series2 = pd.Series(list('abcde'))\n",
    "def generate():\n",
    "    # your code \n",
    "    # print out both vertically and horizontally stacked series.\n",
    "    return None\n",
    "generate()"
   ]
  }
 ],
 "metadata": {
  "kernelspec": {
   "display_name": "Python 3",
   "language": "python",
   "name": "python3"
  },
  "language_info": {
   "codemirror_mode": {
    "name": "ipython",
    "version": 3
   },
   "file_extension": ".py",
   "mimetype": "text/x-python",
   "name": "python",
   "nbconvert_exporter": "python",
   "pygments_lexer": "ipython3",
   "version": "3.7.3"
  }
 },
 "nbformat": 4,
 "nbformat_minor": 2
}
